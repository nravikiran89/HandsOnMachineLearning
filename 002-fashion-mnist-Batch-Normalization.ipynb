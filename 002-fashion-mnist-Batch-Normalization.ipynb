{
 "metadata": {
  "language_info": {
   "codemirror_mode": {
    "name": "ipython",
    "version": 3
   },
   "file_extension": ".py",
   "mimetype": "text/x-python",
   "name": "python",
   "nbconvert_exporter": "python",
   "pygments_lexer": "ipython3",
   "version": "3.8.8"
  },
  "orig_nbformat": 4,
  "kernelspec": {
   "name": "python3",
   "display_name": "Python 3.8.8 64-bit ('base': conda)"
  },
  "interpreter": {
   "hash": "b5fac4eaa32215696b5f6b674c78259c51e7dd2286850d1dae2d3046898d4f39"
  }
 },
 "nbformat": 4,
 "nbformat_minor": 2,
 "cells": [
  {
   "cell_type": "code",
   "execution_count": 1,
   "source": [
    "import tensorflow as tf\n",
    "from tensorflow import keras\n",
    "\n",
    "print(tf.__version__)\n",
    "print(keras.__version__)"
   ],
   "outputs": [
    {
     "output_type": "stream",
     "name": "stdout",
     "text": [
      "2.5.0\n",
      "2.5.0\n"
     ]
    }
   ],
   "metadata": {}
  },
  {
   "cell_type": "code",
   "execution_count": 2,
   "source": [
    "fashion_db = keras.datasets.fashion_mnist\n",
    "(x_train_f, y_train_f), (x_test, y_test) = fashion_db.load_data()"
   ],
   "outputs": [],
   "metadata": {}
  },
  {
   "cell_type": "code",
   "execution_count": 3,
   "source": [
    "x_valid, x_train = x_train_f[:5000]/255.0, x_train_f[5000:]/255.0\n",
    "y_valid, y_train = y_train_f[:5000], y_train_f[5000:]"
   ],
   "outputs": [],
   "metadata": {}
  },
  {
   "cell_type": "code",
   "execution_count": 4,
   "source": [
    "class_names = [\n",
    "    \"T-shirt/top\",\n",
    "    \"Trouser\",\n",
    "    \"Pullover\",\n",
    "    \"Dress\",\n",
    "    \"Coat\",\n",
    "    \"Sandal\",\n",
    "    \"Shirt\",\n",
    "    \"Sneaker\",\n",
    "    \"Bag\",\n",
    "    \"Ankle boot\"\n",
    "]"
   ],
   "outputs": [],
   "metadata": {}
  },
  {
   "cell_type": "code",
   "execution_count": 12,
   "source": [
    "model = keras.models.Sequential()\n",
    "model.add(keras.layers.Flatten(input_shape=[28, 28]))\n",
    "model.add(keras.layers.BatchNormalization())\n",
    "model.add(keras.layers.Dense(300, activation=\"elu\", kernel_initializer=\"he_normal\", use_bias=False))\n",
    "model.add(keras.layers.BatchNormalization())\n",
    "model.add(keras.layers.Dense(300, activation=\"elu\", kernel_initializer=\"he_normal\", use_bias=False))\n",
    "model.add(keras.layers.BatchNormalization())\n",
    "model.add(keras.layers.Dense(10,  activation=\"softmax\"))"
   ],
   "outputs": [],
   "metadata": {}
  },
  {
   "cell_type": "code",
   "execution_count": 13,
   "source": [
    "model.summary()"
   ],
   "outputs": [
    {
     "output_type": "stream",
     "name": "stdout",
     "text": [
      "Model: \"sequential_1\"\n",
      "_________________________________________________________________\n",
      "Layer (type)                 Output Shape              Param #   \n",
      "=================================================================\n",
      "flatten_1 (Flatten)          (None, 784)               0         \n",
      "_________________________________________________________________\n",
      "batch_normalization_3 (Batch (None, 784)               3136      \n",
      "_________________________________________________________________\n",
      "dense_3 (Dense)              (None, 300)               235200    \n",
      "_________________________________________________________________\n",
      "batch_normalization_4 (Batch (None, 300)               1200      \n",
      "_________________________________________________________________\n",
      "dense_4 (Dense)              (None, 300)               90000     \n",
      "_________________________________________________________________\n",
      "batch_normalization_5 (Batch (None, 300)               1200      \n",
      "_________________________________________________________________\n",
      "dense_5 (Dense)              (None, 10)                3010      \n",
      "=================================================================\n",
      "Total params: 333,746\n",
      "Trainable params: 330,978\n",
      "Non-trainable params: 2,768\n",
      "_________________________________________________________________\n"
     ]
    }
   ],
   "metadata": {}
  },
  {
   "cell_type": "code",
   "execution_count": 14,
   "source": [
    "model.layers"
   ],
   "outputs": [
    {
     "output_type": "execute_result",
     "data": {
      "text/plain": [
       "[<tensorflow.python.keras.layers.core.Flatten at 0x7fcb1711f0a0>,\n",
       " <tensorflow.python.keras.layers.normalization_v2.BatchNormalization at 0x7fcb1711fa30>,\n",
       " <tensorflow.python.keras.layers.core.Dense at 0x7fcb1714a310>,\n",
       " <tensorflow.python.keras.layers.normalization_v2.BatchNormalization at 0x7fcb17203610>,\n",
       " <tensorflow.python.keras.layers.core.Dense at 0x7fcb170dc0a0>,\n",
       " <tensorflow.python.keras.layers.normalization_v2.BatchNormalization at 0x7fcb17117490>,\n",
       " <tensorflow.python.keras.layers.core.Dense at 0x7fcb170d68b0>]"
      ]
     },
     "metadata": {},
     "execution_count": 14
    }
   ],
   "metadata": {}
  },
  {
   "cell_type": "code",
   "execution_count": 15,
   "source": [
    "model.compile(loss=\"sparse_categorical_crossentropy\",\n",
    "              optimizer=\"sgd\",\n",
    "              metrics=[\"accuracy\"])"
   ],
   "outputs": [],
   "metadata": {}
  },
  {
   "cell_type": "code",
   "execution_count": 16,
   "source": [
    "history = model.fit(x_train, y_train, \n",
    "                    epochs=30,\n",
    "                    validation_data=(x_valid, y_valid))"
   ],
   "outputs": [
    {
     "output_type": "stream",
     "name": "stdout",
     "text": [
      "Epoch 1/30\n",
      "1719/1719 [==============================] - 9s 5ms/step - loss: 0.5285 - accuracy: 0.8146 - val_loss: 0.3970 - val_accuracy: 0.8588\n",
      "Epoch 2/30\n",
      "1719/1719 [==============================] - 9s 5ms/step - loss: 0.4104 - accuracy: 0.8545 - val_loss: 0.3624 - val_accuracy: 0.8726\n",
      "Epoch 3/30\n",
      "1719/1719 [==============================] - 9s 5ms/step - loss: 0.3773 - accuracy: 0.8660 - val_loss: 0.3580 - val_accuracy: 0.8718\n",
      "Epoch 4/30\n",
      "1719/1719 [==============================] - 9s 5ms/step - loss: 0.3514 - accuracy: 0.8746 - val_loss: 0.3328 - val_accuracy: 0.8828\n",
      "Epoch 5/30\n",
      "1719/1719 [==============================] - 9s 5ms/step - loss: 0.3314 - accuracy: 0.8807 - val_loss: 0.3328 - val_accuracy: 0.8798\n",
      "Epoch 6/30\n",
      "1719/1719 [==============================] - 9s 5ms/step - loss: 0.3181 - accuracy: 0.8860 - val_loss: 0.3238 - val_accuracy: 0.8842\n",
      "Epoch 7/30\n",
      "1719/1719 [==============================] - 9s 5ms/step - loss: 0.3056 - accuracy: 0.8893 - val_loss: 0.3335 - val_accuracy: 0.8800\n",
      "Epoch 8/30\n",
      "1719/1719 [==============================] - 9s 5ms/step - loss: 0.2946 - accuracy: 0.8936 - val_loss: 0.3210 - val_accuracy: 0.8868\n",
      "Epoch 9/30\n",
      "1719/1719 [==============================] - 9s 5ms/step - loss: 0.2852 - accuracy: 0.8959 - val_loss: 0.3191 - val_accuracy: 0.8826\n",
      "Epoch 10/30\n",
      "1719/1719 [==============================] - 9s 5ms/step - loss: 0.2779 - accuracy: 0.8992 - val_loss: 0.3169 - val_accuracy: 0.8894\n",
      "Epoch 11/30\n",
      "1719/1719 [==============================] - 9s 5ms/step - loss: 0.2688 - accuracy: 0.9025 - val_loss: 0.3074 - val_accuracy: 0.8880\n",
      "Epoch 12/30\n",
      "1719/1719 [==============================] - 9s 5ms/step - loss: 0.2588 - accuracy: 0.9051 - val_loss: 0.3009 - val_accuracy: 0.8944\n",
      "Epoch 13/30\n",
      "1719/1719 [==============================] - 9s 5ms/step - loss: 0.2533 - accuracy: 0.9073 - val_loss: 0.3054 - val_accuracy: 0.8892\n",
      "Epoch 14/30\n",
      "1719/1719 [==============================] - 8s 5ms/step - loss: 0.2458 - accuracy: 0.9103 - val_loss: 0.3035 - val_accuracy: 0.8896\n",
      "Epoch 15/30\n",
      "1719/1719 [==============================] - 8s 5ms/step - loss: 0.2402 - accuracy: 0.9125 - val_loss: 0.3069 - val_accuracy: 0.8890\n",
      "Epoch 16/30\n",
      "1719/1719 [==============================] - 8s 5ms/step - loss: 0.2332 - accuracy: 0.9149 - val_loss: 0.3137 - val_accuracy: 0.8830\n",
      "Epoch 17/30\n",
      "1719/1719 [==============================] - 8s 5ms/step - loss: 0.2246 - accuracy: 0.9172 - val_loss: 0.3186 - val_accuracy: 0.8878\n",
      "Epoch 18/30\n",
      "1719/1719 [==============================] - 8s 5ms/step - loss: 0.2204 - accuracy: 0.9190 - val_loss: 0.3003 - val_accuracy: 0.8950\n",
      "Epoch 19/30\n",
      "1719/1719 [==============================] - 8s 5ms/step - loss: 0.2160 - accuracy: 0.9206 - val_loss: 0.2980 - val_accuracy: 0.8960\n",
      "Epoch 20/30\n",
      "1719/1719 [==============================] - 8s 5ms/step - loss: 0.2102 - accuracy: 0.9234 - val_loss: 0.3045 - val_accuracy: 0.8906\n",
      "Epoch 21/30\n",
      "1719/1719 [==============================] - 8s 5ms/step - loss: 0.2076 - accuracy: 0.9242 - val_loss: 0.3084 - val_accuracy: 0.8900\n",
      "Epoch 22/30\n",
      "1719/1719 [==============================] - 9s 5ms/step - loss: 0.2022 - accuracy: 0.9258 - val_loss: 0.3041 - val_accuracy: 0.8930\n",
      "Epoch 23/30\n",
      "1719/1719 [==============================] - 8s 5ms/step - loss: 0.1961 - accuracy: 0.9285 - val_loss: 0.3029 - val_accuracy: 0.8976\n",
      "Epoch 24/30\n",
      "1719/1719 [==============================] - 9s 5ms/step - loss: 0.1919 - accuracy: 0.9303 - val_loss: 0.3055 - val_accuracy: 0.8954\n",
      "Epoch 25/30\n",
      "1719/1719 [==============================] - 8s 5ms/step - loss: 0.1853 - accuracy: 0.9329 - val_loss: 0.3086 - val_accuracy: 0.8916\n",
      "Epoch 26/30\n",
      "1719/1719 [==============================] - 9s 5ms/step - loss: 0.1814 - accuracy: 0.9347 - val_loss: 0.3009 - val_accuracy: 0.8952\n",
      "Epoch 27/30\n",
      "1719/1719 [==============================] - 8s 5ms/step - loss: 0.1790 - accuracy: 0.9355 - val_loss: 0.3000 - val_accuracy: 0.8988\n",
      "Epoch 28/30\n",
      "1719/1719 [==============================] - 9s 5ms/step - loss: 0.1740 - accuracy: 0.9360 - val_loss: 0.3122 - val_accuracy: 0.8972\n",
      "Epoch 29/30\n",
      "1719/1719 [==============================] - 9s 5ms/step - loss: 0.1706 - accuracy: 0.9366 - val_loss: 0.3174 - val_accuracy: 0.8904\n",
      "Epoch 30/30\n",
      "1719/1719 [==============================] - 9s 5ms/step - loss: 0.1669 - accuracy: 0.9403 - val_loss: 0.3010 - val_accuracy: 0.8940\n"
     ]
    }
   ],
   "metadata": {}
  },
  {
   "cell_type": "code",
   "execution_count": 18,
   "source": [
    "import pandas as pd\n",
    "import matplotlib.pyplot as plt\n",
    "\n",
    "pd.DataFrame(history.history).plot(figsize=(8, 5))\n",
    "plt.grid(True)\n",
    "# plt.gca().set_ylim(0, 1) # set the vertical limit to [0, 1]\n",
    "plt.show()"
   ],
   "outputs": [
    {
     "output_type": "display_data",
     "data": {
      "text/plain": [
       "<Figure size 576x360 with 1 Axes>"
      ],
      "image/png": "[encoded data removed]"
     },
     "metadata": {
      "needs_background": "light"
     }
    }
   ],
   "metadata": {}
  },
  {
   "cell_type": "code",
   "execution_count": 19,
   "source": [
    "model.evaluate(x_test, y_test)"
   ],
   "outputs": [
    {
     "output_type": "stream",
     "name": "stdout",
     "text": [
      "313/313 [==============================] - 1s 3ms/step - loss: 978.1741 - accuracy: 0.1911\n"
     ]
    },
    {
     "output_type": "execute_result",
     "data": {
      "text/plain": [
       "[978.174072265625, 0.19110000133514404]"
      ]
     },
     "metadata": {},
     "execution_count": 19
    }
   ],
   "metadata": {}
  }
 ]
}